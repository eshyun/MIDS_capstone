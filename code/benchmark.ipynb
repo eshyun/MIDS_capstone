{
 "cells": [
  {
   "cell_type": "code",
   "execution_count": 7,
   "metadata": {},
   "outputs": [
    {
     "name": "stderr",
     "output_type": "stream",
     "text": [
      "Using TensorFlow backend.\n"
     ]
    }
   ],
   "source": [
    "#Pull SP500 data\n",
    "import os\n",
    "import sys\n",
    "import time\n",
    "import pandas as pd\n",
    "import datetime\n",
    "#import pandas.io.data as web\n",
    "import matplotlib.pyplot as plt\n",
    "from matplotlib import style\n",
    "from bs4 import BeautifulSoup\n",
    "import requests\n",
    "from pandas_datareader import data\n",
    "import lstm2\n",
    "from pandas import read_csv\n",
    "\n",
    "'''\n",
    "function to get the stock symbols from S&P 500\n",
    "'''\n",
    "def get_SP500_stocks():\n",
    "    url = \"https://en.wikipedia.org/wiki/List_of_S%26P_500_companies#S.26P_500_Component_Stocks\"\n",
    "    r = requests.get(url)\n",
    "    data = r.text\n",
    "    soup = BeautifulSoup(data, \"html5lib\")\n",
    "\n",
    "    table = soup.find_all('table')[0]\n",
    "    # Exclude header row\n",
    "    rows = table.find_all('tr')[1:]\n",
    "    #print(len(rows))\n",
    "    #print(rows[len(rows)-1])\n",
    "    stocks = []\n",
    "    for row in rows:\n",
    "        cols = row.find_all('td')\n",
    "        stocks.append(cols[0].get_text())\n",
    "    return stocks\n",
    "\n",
    "'''\n",
    "Get the stock price csv given stock symbol and directory of the csv\n",
    "'''\n",
    "def get_csv_file(ticker, base_dir='../data'):\n",
    "    return os.path.join(base_dir, \"{}.csv\".format(str(ticker)))\n",
    "\n",
    "'''\n",
    "Given a list of stock symbols, start and end date, dump the data in csv format into a directory\n",
    "'''\n",
    "def dump_tickers(tickers=['^GSPC'],\n",
    "                base_dir='../data',\n",
    "                data_source='yahoo', # google'\n",
    "                start_date= '2000-01-01', \n",
    "                end_date=datetime.datetime.today().strftime('%Y-%m-%d')):\n",
    "\n",
    "    for ticker in tickers:\n",
    "        file = get_csv_file(ticker, base_dir)\n",
    "        existing_data = None\n",
    "        # Incremental run: If the csv exists, find the last date and start from there\n",
    "        try:          \n",
    "            existing_data = pd.read_csv(file, index_col='Date')\n",
    "\n",
    "            last_date = existing_data.index[len(existing_data.index)-1]\n",
    "            print('last_date',last_date)\n",
    "            new_date = datetime.datetime.strptime(last_date, \"%Y-%m-%d\") + datetime.timedelta(days=1)\n",
    "            new_start_date = (new_date).strftime('%Y-%m-%d')\n",
    "        except:\n",
    "            print('e')\n",
    "            new_start_date = start_date\n",
    "        \n",
    "        #print(\"existing_data:\", existing_data)\n",
    "        print(\"new_start_date:\", new_start_date)\n",
    "        attempts = 0\n",
    "        # Retry 3 times if there is exceptions with reading data\n",
    "        while attempts < 3:\n",
    "            try:\n",
    "                ticker_data = data.DataReader(ticker, data_source, new_start_date, end_date)\n",
    "                print(\"Processing\", ticker)\n",
    "\n",
    "                # Concate to existing file\n",
    "                if (existing_data is not None):\n",
    "                    with open(file, 'a') as f:\n",
    "                        ticker_data.to_csv(f, header=False)\n",
    "                else:   \n",
    "                    ticker_data.to_csv(file)\n",
    "                break\n",
    "            except:\n",
    "                e = sys.exc_info()[0]\n",
    "                print(\"Got\", e, \". Retrying....\")\n",
    "                attempts += 1\n",
    "            "
   ]
  },
  {
   "cell_type": "code",
   "execution_count": 6,
   "metadata": {},
   "outputs": [
    {
     "name": "stdout",
     "output_type": "stream",
     "text": [
      "e\n",
      "('new_start_date:', '2000-01-01')\n",
      "('Processing', '^GSPC')\n"
     ]
    }
   ],
   "source": [
    "dump_tickers()"
   ]
  },
  {
   "cell_type": "code",
   "execution_count": 8,
   "metadata": {},
   "outputs": [
    {
     "name": "stdout",
     "output_type": "stream",
     "text": [
      "/Users/zhongqiaojin/Documents/MIDS/W210/MIDS_capstone/code\r\n"
     ]
    }
   ],
   "source": [
    "!pwd"
   ]
  },
  {
   "cell_type": "code",
   "execution_count": 29,
   "metadata": {},
   "outputs": [
    {
     "name": "stdout",
     "output_type": "stream",
     "text": [
      "                   Open         High          Low        Close    Adj Close  \\\n",
      "Date                                                                          \n",
      "2000-01-03  1469.250000  1478.000000  1438.359985  1455.219971  1455.219971   \n",
      "2000-01-04  1455.219971  1455.219971  1397.430054  1399.420044  1399.420044   \n",
      "2000-01-05  1399.420044  1413.270020  1377.680054  1402.109985  1402.109985   \n",
      "2000-01-06  1402.109985  1411.900024  1392.099976  1403.449951  1403.449951   \n",
      "2000-01-07  1403.449951  1441.469971  1400.729980  1441.469971  1441.469971   \n",
      "\n",
      "                Volume  \n",
      "Date                    \n",
      "2000-01-03   931800000  \n",
      "2000-01-04  1009000000  \n",
      "2000-01-05  1085500000  \n",
      "2000-01-06  1092300000  \n",
      "2000-01-07  1225200000  \n",
      "^GSPC\n",
      "/Users/zhongqiaojin/Documents/MIDS/W210/MIDS_capstone/data/bmsource/^GSPC.csv has 736 rows\n",
      "                Volume    Adj Close\n",
      "Date                               \n",
      "2015-01-02  2708700000  2058.199951\n",
      "2015-01-05  3799120000  2020.579956\n",
      "2015-01-06  4460110000  2002.609985\n",
      "2015-01-07  3805480000  2025.900024\n",
      "2015-01-08  3934010000  2062.139893\n",
      "(706, 4)\n",
      "('Generating', '/Users/zhongqiaojin/Documents/MIDS/W210/MIDS_capstone/data/bm/30day/^GSPC_supervised.csv')\n"
     ]
    },
    {
     "data": {
      "text/plain": [
       "(2, {'^GSPC':                 Volume    Adj Close\n",
       "  Date                               \n",
       "  2015-01-02  2708700000  2058.199951\n",
       "  2015-01-05  3799120000  2020.579956\n",
       "  2015-01-06  4460110000  2002.609985\n",
       "  2015-01-07  3805480000  2025.900024\n",
       "  2015-01-08  3934010000  2062.139893\n",
       "  2015-01-09  3364140000  2044.810059\n",
       "  2015-01-12  3456460000  2028.260010\n",
       "  2015-01-13  4107300000  2023.030029\n",
       "  2015-01-14  4378680000  2011.270020\n",
       "  2015-01-15  4276720000  1992.670044\n",
       "  2015-01-16  4056410000  2019.420044\n",
       "  2015-01-20  3944340000  2022.550049\n",
       "  2015-01-21  3730070000  2032.119995\n",
       "  2015-01-22  4176050000  2063.149902\n",
       "  2015-01-23  3573560000  2051.820068\n",
       "  2015-01-26  3465760000  2057.090088\n",
       "  2015-01-27  3329810000  2029.550049\n",
       "  2015-01-28  4067530000  2002.160034\n",
       "  2015-01-29  4127140000  2021.250000\n",
       "  2015-01-30  4568650000  1994.989990\n",
       "  2015-02-02  4008330000  2020.849976\n",
       "  2015-02-03  4615900000  2050.030029\n",
       "  2015-02-04  4141920000  2041.510010\n",
       "  2015-02-05  3821990000  2062.520020\n",
       "  2015-02-06  4232970000  2055.469971\n",
       "  2015-02-09  3549540000  2046.739990\n",
       "  2015-02-10  3669850000  2068.590088\n",
       "  2015-02-11  3596860000  2068.530029\n",
       "  2015-02-12  3788350000  2088.479980\n",
       "  2015-02-13  3527450000  2096.989990\n",
       "  ...                ...          ...\n",
       "  2017-10-20  3384650000  2575.209961\n",
       "  2017-10-23  3211710000  2564.979980\n",
       "  2017-10-24  3427330000  2569.129883\n",
       "  2017-10-25  3874510000  2557.149902\n",
       "  2017-10-26  3869050000  2560.399902\n",
       "  2017-10-27  3887110000  2581.070068\n",
       "  2017-10-30  3658870000  2572.830078\n",
       "  2017-10-31  3827230000  2575.260010\n",
       "  2017-11-01  3813180000  2579.360107\n",
       "  2017-11-02  4048270000  2579.850098\n",
       "  2017-11-03  3567710000  2587.840088\n",
       "  2017-11-06  3539080000  2591.129883\n",
       "  2017-11-07  3809650000  2590.639893\n",
       "  2017-11-08  3899360000  2594.379883\n",
       "  2017-11-09  3831610000  2584.620117\n",
       "  2017-11-10  3486910000  2582.300049\n",
       "  2017-11-13  3402930000  2584.840088\n",
       "  2017-11-14  3641760000  2578.870117\n",
       "  2017-11-15  3558890000  2564.620117\n",
       "  2017-11-16  3312710000  2585.639893\n",
       "  2017-11-17  3300160000  2578.850098\n",
       "  2017-11-20  3003540000  2582.139893\n",
       "  2017-11-21  3332720000  2599.030029\n",
       "  2017-11-22  2762950000  2597.080078\n",
       "  2017-11-24  1349780000  2602.419922\n",
       "  2017-11-27  3006860000  2601.419922\n",
       "  2017-11-28  3488420000  2627.040039\n",
       "  2017-11-29  4078280000  2626.070068\n",
       "  2017-11-30  4938490000  2647.580078\n",
       "  2017-12-01  3942320000  2642.219971\n",
       "  \n",
       "  [736 rows x 2 columns]}, {'^GSPC': array([[ 0.20965502,  0.31256985,  0.32203525,  0.33141123],\n",
       "         [ 0.38593893,  0.26124794,  0.32335895,  0.33060469],\n",
       "         [ 0.49279859,  0.23673296,  0.30368441,  0.32788021],\n",
       "         ..., \n",
       "         [ 0.23886646,  0.99626205,  0.43672281,  0.97372021],\n",
       "         [ 0.25643956,  0.99885394,  0.57440774,  1.        ],\n",
       "         [ 0.25524647,  1.        ,  0.4149611 ,  0.99345131]])})"
      ]
     },
     "execution_count": 29,
     "metadata": {},
     "output_type": "execute_result"
    }
   ],
   "source": [
    "#Get 30-day processed data\n",
    "lstm2.set_up_data('/Users/zhongqiaojin/Documents/MIDS/W210/MIDS_capstone/data/bmsource', None, None, '/Users/zhongqiaojin/Documents/MIDS/W210/MIDS_capstone/data/bm/30day', 1, 30)"
   ]
  },
  {
   "cell_type": "code",
   "execution_count": 30,
   "metadata": {},
   "outputs": [
    {
     "name": "stdout",
     "output_type": "stream",
     "text": [
      "                   Open         High          Low        Close    Adj Close  \\\n",
      "Date                                                                          \n",
      "2000-01-03  1469.250000  1478.000000  1438.359985  1455.219971  1455.219971   \n",
      "2000-01-04  1455.219971  1455.219971  1397.430054  1399.420044  1399.420044   \n",
      "2000-01-05  1399.420044  1413.270020  1377.680054  1402.109985  1402.109985   \n",
      "2000-01-06  1402.109985  1411.900024  1392.099976  1403.449951  1403.449951   \n",
      "2000-01-07  1403.449951  1441.469971  1400.729980  1441.469971  1441.469971   \n",
      "\n",
      "                Volume  \n",
      "Date                    \n",
      "2000-01-03   931800000  \n",
      "2000-01-04  1009000000  \n",
      "2000-01-05  1085500000  \n",
      "2000-01-06  1092300000  \n",
      "2000-01-07  1225200000  \n",
      "^GSPC\n",
      "/Users/zhongqiaojin/Documents/MIDS/W210/MIDS_capstone/data/bmsource/^GSPC.csv has 736 rows\n",
      "                Volume    Adj Close\n",
      "Date                               \n",
      "2015-01-02  2708700000  2058.199951\n",
      "2015-01-05  3799120000  2020.579956\n",
      "2015-01-06  4460110000  2002.609985\n",
      "2015-01-07  3805480000  2025.900024\n",
      "2015-01-08  3934010000  2062.139893\n",
      "(691, 4)\n",
      "('Generating', '/Users/zhongqiaojin/Documents/MIDS/W210/MIDS_capstone/data/bm/45day/^GSPC_supervised.csv')\n"
     ]
    },
    {
     "data": {
      "text/plain": [
       "(2, {'^GSPC':                 Volume    Adj Close\n",
       "  Date                               \n",
       "  2015-01-02  2708700000  2058.199951\n",
       "  2015-01-05  3799120000  2020.579956\n",
       "  2015-01-06  4460110000  2002.609985\n",
       "  2015-01-07  3805480000  2025.900024\n",
       "  2015-01-08  3934010000  2062.139893\n",
       "  2015-01-09  3364140000  2044.810059\n",
       "  2015-01-12  3456460000  2028.260010\n",
       "  2015-01-13  4107300000  2023.030029\n",
       "  2015-01-14  4378680000  2011.270020\n",
       "  2015-01-15  4276720000  1992.670044\n",
       "  2015-01-16  4056410000  2019.420044\n",
       "  2015-01-20  3944340000  2022.550049\n",
       "  2015-01-21  3730070000  2032.119995\n",
       "  2015-01-22  4176050000  2063.149902\n",
       "  2015-01-23  3573560000  2051.820068\n",
       "  2015-01-26  3465760000  2057.090088\n",
       "  2015-01-27  3329810000  2029.550049\n",
       "  2015-01-28  4067530000  2002.160034\n",
       "  2015-01-29  4127140000  2021.250000\n",
       "  2015-01-30  4568650000  1994.989990\n",
       "  2015-02-02  4008330000  2020.849976\n",
       "  2015-02-03  4615900000  2050.030029\n",
       "  2015-02-04  4141920000  2041.510010\n",
       "  2015-02-05  3821990000  2062.520020\n",
       "  2015-02-06  4232970000  2055.469971\n",
       "  2015-02-09  3549540000  2046.739990\n",
       "  2015-02-10  3669850000  2068.590088\n",
       "  2015-02-11  3596860000  2068.530029\n",
       "  2015-02-12  3788350000  2088.479980\n",
       "  2015-02-13  3527450000  2096.989990\n",
       "  ...                ...          ...\n",
       "  2017-10-20  3384650000  2575.209961\n",
       "  2017-10-23  3211710000  2564.979980\n",
       "  2017-10-24  3427330000  2569.129883\n",
       "  2017-10-25  3874510000  2557.149902\n",
       "  2017-10-26  3869050000  2560.399902\n",
       "  2017-10-27  3887110000  2581.070068\n",
       "  2017-10-30  3658870000  2572.830078\n",
       "  2017-10-31  3827230000  2575.260010\n",
       "  2017-11-01  3813180000  2579.360107\n",
       "  2017-11-02  4048270000  2579.850098\n",
       "  2017-11-03  3567710000  2587.840088\n",
       "  2017-11-06  3539080000  2591.129883\n",
       "  2017-11-07  3809650000  2590.639893\n",
       "  2017-11-08  3899360000  2594.379883\n",
       "  2017-11-09  3831610000  2584.620117\n",
       "  2017-11-10  3486910000  2582.300049\n",
       "  2017-11-13  3402930000  2584.840088\n",
       "  2017-11-14  3641760000  2578.870117\n",
       "  2017-11-15  3558890000  2564.620117\n",
       "  2017-11-16  3312710000  2585.639893\n",
       "  2017-11-17  3300160000  2578.850098\n",
       "  2017-11-20  3003540000  2582.139893\n",
       "  2017-11-21  3332720000  2599.030029\n",
       "  2017-11-22  2762950000  2597.080078\n",
       "  2017-11-24  1349780000  2602.419922\n",
       "  2017-11-27  3006860000  2601.419922\n",
       "  2017-11-28  3488420000  2627.040039\n",
       "  2017-11-29  4078280000  2626.070068\n",
       "  2017-11-30  4938490000  2647.580078\n",
       "  2017-12-01  3942320000  2642.219971\n",
       "  \n",
       "  [736 rows x 2 columns]}, {'^GSPC': array([[ 0.20965502,  0.33645623,  0.37119758,  0.26277342],\n",
       "         [ 0.38593893,  0.28121233,  0.32920913,  0.25798412],\n",
       "         [ 0.49279859,  0.25482393,  0.32909549,  0.28939519],\n",
       "         ..., \n",
       "         [ 0.26371777,  0.98058685,  0.43672281,  0.97372021],\n",
       "         [ 0.33047292,  0.99556519,  0.57440774,  1.        ],\n",
       "         [ 0.28400848,  1.        ,  0.4149611 ,  0.99345131]])})"
      ]
     },
     "execution_count": 30,
     "metadata": {},
     "output_type": "execute_result"
    }
   ],
   "source": [
    "#Get 45-day processed data\n",
    "lstm2.set_up_data('/Users/zhongqiaojin/Documents/MIDS/W210/MIDS_capstone/data/bmsource', None, None, '/Users/zhongqiaojin/Documents/MIDS/W210/MIDS_capstone/data/bm/45day', 1, 45)"
   ]
  },
  {
   "cell_type": "code",
   "execution_count": 31,
   "metadata": {},
   "outputs": [
    {
     "name": "stdout",
     "output_type": "stream",
     "text": [
      "                   Open         High          Low        Close    Adj Close  \\\n",
      "Date                                                                          \n",
      "2000-01-03  1469.250000  1478.000000  1438.359985  1455.219971  1455.219971   \n",
      "2000-01-04  1455.219971  1455.219971  1397.430054  1399.420044  1399.420044   \n",
      "2000-01-05  1399.420044  1413.270020  1377.680054  1402.109985  1402.109985   \n",
      "2000-01-06  1402.109985  1411.900024  1392.099976  1403.449951  1403.449951   \n",
      "2000-01-07  1403.449951  1441.469971  1400.729980  1441.469971  1441.469971   \n",
      "\n",
      "                Volume  \n",
      "Date                    \n",
      "2000-01-03   931800000  \n",
      "2000-01-04  1009000000  \n",
      "2000-01-05  1085500000  \n",
      "2000-01-06  1092300000  \n",
      "2000-01-07  1225200000  \n",
      "^GSPC\n",
      "/Users/zhongqiaojin/Documents/MIDS/W210/MIDS_capstone/data/bmsource/^GSPC.csv has 736 rows\n",
      "                Volume    Adj Close\n",
      "Date                               \n",
      "2015-01-02  2708700000  2058.199951\n",
      "2015-01-05  3799120000  2020.579956\n",
      "2015-01-06  4460110000  2002.609985\n",
      "2015-01-07  3805480000  2025.900024\n",
      "2015-01-08  3934010000  2062.139893\n",
      "(676, 4)\n",
      "('Generating', '/Users/zhongqiaojin/Documents/MIDS/W210/MIDS_capstone/data/bm/60day/^GSPC_supervised.csv')\n"
     ]
    },
    {
     "data": {
      "text/plain": [
       "(2, {'^GSPC':                 Volume    Adj Close\n",
       "  Date                               \n",
       "  2015-01-02  2708700000  2058.199951\n",
       "  2015-01-05  3799120000  2020.579956\n",
       "  2015-01-06  4460110000  2002.609985\n",
       "  2015-01-07  3805480000  2025.900024\n",
       "  2015-01-08  3934010000  2062.139893\n",
       "  2015-01-09  3364140000  2044.810059\n",
       "  2015-01-12  3456460000  2028.260010\n",
       "  2015-01-13  4107300000  2023.030029\n",
       "  2015-01-14  4378680000  2011.270020\n",
       "  2015-01-15  4276720000  1992.670044\n",
       "  2015-01-16  4056410000  2019.420044\n",
       "  2015-01-20  3944340000  2022.550049\n",
       "  2015-01-21  3730070000  2032.119995\n",
       "  2015-01-22  4176050000  2063.149902\n",
       "  2015-01-23  3573560000  2051.820068\n",
       "  2015-01-26  3465760000  2057.090088\n",
       "  2015-01-27  3329810000  2029.550049\n",
       "  2015-01-28  4067530000  2002.160034\n",
       "  2015-01-29  4127140000  2021.250000\n",
       "  2015-01-30  4568650000  1994.989990\n",
       "  2015-02-02  4008330000  2020.849976\n",
       "  2015-02-03  4615900000  2050.030029\n",
       "  2015-02-04  4141920000  2041.510010\n",
       "  2015-02-05  3821990000  2062.520020\n",
       "  2015-02-06  4232970000  2055.469971\n",
       "  2015-02-09  3549540000  2046.739990\n",
       "  2015-02-10  3669850000  2068.590088\n",
       "  2015-02-11  3596860000  2068.530029\n",
       "  2015-02-12  3788350000  2088.479980\n",
       "  2015-02-13  3527450000  2096.989990\n",
       "  ...                ...          ...\n",
       "  2017-10-20  3384650000  2575.209961\n",
       "  2017-10-23  3211710000  2564.979980\n",
       "  2017-10-24  3427330000  2569.129883\n",
       "  2017-10-25  3874510000  2557.149902\n",
       "  2017-10-26  3869050000  2560.399902\n",
       "  2017-10-27  3887110000  2581.070068\n",
       "  2017-10-30  3658870000  2572.830078\n",
       "  2017-10-31  3827230000  2575.260010\n",
       "  2017-11-01  3813180000  2579.360107\n",
       "  2017-11-02  4048270000  2579.850098\n",
       "  2017-11-03  3567710000  2587.840088\n",
       "  2017-11-06  3539080000  2591.129883\n",
       "  2017-11-07  3809650000  2590.639893\n",
       "  2017-11-08  3899360000  2594.379883\n",
       "  2017-11-09  3831610000  2584.620117\n",
       "  2017-11-10  3486910000  2582.300049\n",
       "  2017-11-13  3402930000  2584.840088\n",
       "  2017-11-14  3641760000  2578.870117\n",
       "  2017-11-15  3558890000  2564.620117\n",
       "  2017-11-16  3312710000  2585.639893\n",
       "  2017-11-17  3300160000  2578.850098\n",
       "  2017-11-20  3003540000  2582.139893\n",
       "  2017-11-21  3332720000  2599.030029\n",
       "  2017-11-22  2762950000  2597.080078\n",
       "  2017-11-24  1349780000  2602.419922\n",
       "  2017-11-27  3006860000  2601.419922\n",
       "  2017-11-28  3488420000  2627.040039\n",
       "  2017-11-29  4078280000  2626.070068\n",
       "  2017-11-30  4938490000  2647.580078\n",
       "  2017-12-01  3942320000  2642.219971\n",
       "  \n",
       "  [736 rows x 2 columns]}, {'^GSPC': array([[ 0.20965502,  0.35150271,  0.32440414,  0.2917653 ],\n",
       "         [ 0.38593893,  0.29378828,  0.35108929,  0.28174704],\n",
       "         [ 0.49279859,  0.26621978,  0.27949299,  0.29062916],\n",
       "         ..., \n",
       "         [ 0.33600675,  0.96462296,  0.43672281,  0.97372021],\n",
       "         [ 0.31727774,  0.97642043,  0.57440774,  1.        ],\n",
       "         [ 0.31396682,  0.97574549,  0.4149611 ,  0.99345131]])})"
      ]
     },
     "execution_count": 31,
     "metadata": {},
     "output_type": "execute_result"
    }
   ],
   "source": [
    "#Get 60-day processed data\n",
    "lstm2.set_up_data('/Users/zhongqiaojin/Documents/MIDS/W210/MIDS_capstone/data/bmsource', None, None, '/Users/zhongqiaojin/Documents/MIDS/W210/MIDS_capstone/data/bm/60day', 1, 60)"
   ]
  },
  {
   "cell_type": "code",
   "execution_count": 33,
   "metadata": {},
   "outputs": [
    {
     "data": {
      "text/plain": [
       "0.010868171188051834"
      ]
     },
     "execution_count": 33,
     "metadata": {},
     "output_type": "execute_result"
    }
   ],
   "source": [
    "#Get 30-day average return\n",
    "df = pd.read_csv('/Users/zhongqiaojin/Documents/MIDS/W210/MIDS_capstone/data/bm/30day/^GSPC_supervised.csv')\n",
    "#df.drop(df.columns[[0, 2]], axis=1) \n",
    "(df['var2(t+29)']/df['var2(t-1)']).mean() - 1"
   ]
  },
  {
   "cell_type": "code",
   "execution_count": 36,
   "metadata": {},
   "outputs": [
    {
     "data": {
      "text/plain": [
       "0.015558001244334596"
      ]
     },
     "execution_count": 36,
     "metadata": {},
     "output_type": "execute_result"
    }
   ],
   "source": [
    "#Get 45-day average return\n",
    "f = pd.read_csv('/Users/zhongqiaojin/Documents/MIDS/W210/MIDS_capstone/data/bm/45day/^GSPC_supervised.csv')\n",
    "#df.drop(df.columns[[0, 2]], axis=1) \n",
    "(df['var2(t+44)']/df['var2(t-1)']).mean() - 1"
   ]
  },
  {
   "cell_type": "code",
   "execution_count": 37,
   "metadata": {},
   "outputs": [
    {
     "data": {
      "text/plain": [
       "0.020159725501638803"
      ]
     },
     "execution_count": 37,
     "metadata": {},
     "output_type": "execute_result"
    }
   ],
   "source": [
    "#Get 60-day average return\n",
    "df = pd.read_csv('/Users/zhongqiaojin/Documents/MIDS/W210/MIDS_capstone/data/bm/60day/^GSPC_supervised.csv')\n",
    "#df.drop(df.columns[[0, 2]], axis=1) \n",
    "(df['var2(t+59)']/df['var2(t-1)']).mean() - 1"
   ]
  },
  {
   "cell_type": "code",
   "execution_count": 24,
   "metadata": {},
   "outputs": [
    {
     "data": {
      "text/plain": [
       "var1(t-1)     float64\n",
       "var2(t-1)     float64\n",
       "var1(t+29)    float64\n",
       "var2(t+29)    float64\n",
       "dtype: object"
      ]
     },
     "execution_count": 24,
     "metadata": {},
     "output_type": "execute_result"
    }
   ],
   "source": [
    "df.dtypes"
   ]
  },
  {
   "cell_type": "code",
   "execution_count": null,
   "metadata": {
    "collapsed": true
   },
   "outputs": [],
   "source": []
  }
 ],
 "metadata": {
  "kernelspec": {
   "display_name": "Python 3",
   "language": "python",
   "name": "python3"
  },
  "language_info": {
   "codemirror_mode": {
    "name": "ipython",
    "version": 3
   },
   "file_extension": ".py",
   "mimetype": "text/x-python",
   "name": "python",
   "nbconvert_exporter": "python",
   "pygments_lexer": "ipython3",
   "version": "3.6.5"
  }
 },
 "nbformat": 4,
 "nbformat_minor": 2
}
