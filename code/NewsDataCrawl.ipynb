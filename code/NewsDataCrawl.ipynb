{
 "cells": [
  {
   "cell_type": "code",
   "execution_count": 1,
   "metadata": {},
   "outputs": [],
   "source": [
    "from bs4 import BeautifulSoup\n",
    "import requests\n",
    "from datetime import datetime\n",
    "from textblob import TextBlob"
   ]
  },
  {
   "cell_type": "code",
   "execution_count": 16,
   "metadata": {},
   "outputs": [],
   "source": [
    "def get_SP500_stocks():\n",
    "    url = \"https://en.wikipedia.org/wiki/List_of_S%26P_500_companies#S.26P_500_Component_Stocks\"\n",
    "    r = requests.get(url)\n",
    "    data = r.text\n",
    "    soup = BeautifulSoup(data, \"html5lib\")\n",
    "\n",
    "    table = soup.find_all('table')[0]\n",
    "    # Exclude header row\n",
    "    rows = table.find_all('tr')[1:]\n",
    "    #print(len(rows))\n",
    "    #print(rows[len(rows)-1])\n",
    "    stocks = []\n",
    "    for row in rows:\n",
    "        cols = row.find_all('td')\n",
    "        stocks.append(cols[0].get_text())\n",
    "\n",
    "    return stocks\n",
    "sp500 = get_SP500_stocks() "
   ]
  },
  {
   "cell_type": "code",
   "execution_count": 22,
   "metadata": {},
   "outputs": [
    {
     "name": "stdout",
     "output_type": "stream",
     "text": [
      "end\n"
     ]
    }
   ],
   "source": [
    "startdate = '2000-01-01'\n",
    "enddate = '2017-11-01'\n",
    "news = []\n",
    "hm = ['hours ago', 'minutes ago', 'hour ago', 'minute ago']\n",
    "news.append(('','',''))\n",
    "f = open(' newsdata.txt', 'w')\n",
    "for symbol in sp500:\n",
    "    #if symbol == 'AAPL':\n",
    "        i = 0\n",
    "        fl = 1\n",
    "        while fl == 1:\n",
    "            url = 'https://finance.google.com/finance/company_news?q=' + symbol + '&startdate=' + startdate + \\\n",
    "                  '&enddate=' + enddate + '&start=' + str(i * 10) + '&num=10'\n",
    "            x = requests.get(url)\n",
    "            #print i\n",
    "            #print url\n",
    "            data = x.text\n",
    "            soup = BeautifulSoup(data, 'html.parser')\n",
    "            #print(soup.prettify())\n",
    "            quote = soup.find_all('a', {\"href\" : lambda L: L and \\\n",
    "                    (L.startswith('http://news') or L.startswith('//www.google.com/url'))})\n",
    "            if quote:\n",
    "                for row in quote:\n",
    "                    try:\n",
    "                        item = row.parent.findNext('span',attrs={'class': 'date'}).next_element\n",
    "                    except:\n",
    "                        item = news[-1][2]\n",
    "                        #news.append((symbol,row.next_element,news[-1][1]))\n",
    "                    #print item\n",
    "                    if any(x in str(item) for x in hm):\n",
    "                        item = datetime.now().date()\n",
    "                    else:\n",
    "                        if item <> news[-1][2] and symbol == news[-1][0]:\n",
    "                            item = datetime.strptime(item.replace(',',''), '%b %d %Y').date()\n",
    "                    news.append((symbol,row.next_element.encode('ascii', 'ignore').decode('ascii')\\\n",
    "                    .replace('\\r', '').replace('\\n', ''),item))\n",
    "                    line = row.next_element.encode('ascii', 'ignore').decode('ascii')\\\n",
    "                    .replace('\\r', '').replace('\\n', '')\n",
    "                    f.write(symbol + '||' + str(line) + '||' + str(item) + '\\n' + '||' \\\n",
    "                            + TextBlob(str(line)).polarity + '||' + TextBlob(str(line)).subjectivity)\n",
    "            else:\n",
    "                fl = 0\n",
    "            i = i + 1\n",
    "f.close()\n",
    "#print 'Oldest Date news is:',min(dt for dt in [x[2] for x in news])\n",
    "#print news \n",
    "print \"end\""
   ]
  }
 ],
 "metadata": {
  "anaconda-cloud": {},
  "kernelspec": {
   "display_name": "Python 2",
   "language": "python",
   "name": "python2"
  },
  "language_info": {
   "codemirror_mode": {
    "name": "ipython",
    "version": 2
   },
   "file_extension": ".py",
   "mimetype": "text/x-python",
   "name": "python",
   "nbconvert_exporter": "python",
   "pygments_lexer": "ipython2",
   "version": "2.7.12"
  }
 },
 "nbformat": 4,
 "nbformat_minor": 2
}
